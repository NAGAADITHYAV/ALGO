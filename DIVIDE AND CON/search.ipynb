{
 "cells": [
  {
   "cell_type": "code",
   "execution_count": 1,
   "metadata": {},
   "outputs": [
    {
     "name": "stdout",
     "output_type": "stream",
     "text": [
      "5 1 5 8 12 13\n",
      "5 8 1 23 1 11\n"
     ]
    }
   ],
   "source": [
    "a=[int(x) for x in input().split()]\n",
    "a=a[1:]\n",
    "b=[int(x) for x in input().split()]\n",
    "b=b[1:]"
   ]
  },
  {
   "cell_type": "code",
   "execution_count": 2,
   "metadata": {},
   "outputs": [
    {
     "name": "stdout",
     "output_type": "stream",
     "text": [
      "se=\n",
      "se> 1 2\n",
      "se> 1 1\n",
      "se< 23 2\n",
      "se< 23 3\n",
      "se> 1 2\n",
      "se> 1 1\n",
      "se< 11 2\n",
      "se> 11 3\n"
     ]
    }
   ],
   "source": [
    "sol=[]\n",
    "for k in b:\n",
    "    s=0\n",
    "    e=len(a)-1\n",
    "    while True:\n",
    "        if s<=e:\n",
    "            se=(s+e)//2\n",
    "            if a[se]<k:\n",
    "                s=se\n",
    "                print(\"se<\",k,se)\n",
    "            elif a[se]>k:\n",
    "                e=se\n",
    "                print(\"se>\",k,se)\n",
    "            else:\n",
    "                sol.append(se)\n",
    "                print(\"se=\")\n",
    "                break\n",
    "            if e-s==1:\n",
    "                s=s+1\n",
    "        else:\n",
    "            sol.append(-1)\n",
    "            break\n",
    "    "
   ]
  },
  {
   "cell_type": "code",
   "execution_count": 3,
   "metadata": {},
   "outputs": [
    {
     "name": "stdout",
     "output_type": "stream",
     "text": [
      "[2, -1, -1, -1, -1]\n"
     ]
    }
   ],
   "source": [
    "print(sol)"
   ]
  },
  {
   "cell_type": "code",
   "execution_count": null,
   "metadata": {},
   "outputs": [],
   "source": []
  },
  {
   "cell_type": "code",
   "execution_count": null,
   "metadata": {},
   "outputs": [],
   "source": []
  },
  {
   "cell_type": "code",
   "execution_count": null,
   "metadata": {},
   "outputs": [],
   "source": []
  }
 ],
 "metadata": {
  "kernelspec": {
   "display_name": "Python 3",
   "language": "python",
   "name": "python3"
  },
  "language_info": {
   "codemirror_mode": {
    "name": "ipython",
    "version": 3
   },
   "file_extension": ".py",
   "mimetype": "text/x-python",
   "name": "python",
   "nbconvert_exporter": "python",
   "pygments_lexer": "ipython3",
   "version": "3.7.6"
  }
 },
 "nbformat": 4,
 "nbformat_minor": 4
}
