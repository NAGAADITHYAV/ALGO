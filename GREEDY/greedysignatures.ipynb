{
 "cells": [
  {
   "cell_type": "code",
   "execution_count": 1,
   "metadata": {},
   "outputs": [
    {
     "name": "stdout",
     "output_type": "stream",
     "text": [
      "3\n",
      "1 3\n",
      "2 5\n",
      "3 6\n"
     ]
    }
   ],
   "source": [
    "n=int(input())\n",
    "seg=[]                    # seg is for storing ordered pairs of indexes\n",
    "for _ in range(n):\n",
    "    x,y=map(int,input().split())\n",
    "    seg.append((x,y))   \n",
    "seg.sort(key=lambda x:x[1])"
   ]
  },
  {
   "cell_type": "code",
   "execution_count": 2,
   "metadata": {},
   "outputs": [],
   "source": [
    "ans=[]\n",
    "while True:\n",
    "    if len(seg)==0:\n",
    "        break\n",
    "    mark=seg[0][1]\n",
    "    i=1\n",
    "    while(i<len(seg)):\n",
    "        if seg[i][0]<=mark:\n",
    "            seg.pop(i)\n",
    "        else:\n",
    "            i=i+1\n",
    "    ans.append(seg[0][1])\n",
    "    seg.pop(0)"
   ]
  },
  {
   "cell_type": "code",
   "execution_count": 3,
   "metadata": {},
   "outputs": [
    {
     "name": "stdout",
     "output_type": "stream",
     "text": [
      "1\n",
      "[3]\n"
     ]
    }
   ],
   "source": [
    "print(len(ans))\n",
    "for x in ans:\n",
    "    print(x,end=\" \")"
   ]
  },
  {
   "cell_type": "code",
   "execution_count": null,
   "metadata": {},
   "outputs": [],
   "source": []
  }
 ],
 "metadata": {
  "kernelspec": {
   "display_name": "Python 3",
   "language": "python",
   "name": "python3"
  },
  "language_info": {
   "codemirror_mode": {
    "name": "ipython",
    "version": 3
   },
   "file_extension": ".py",
   "mimetype": "text/x-python",
   "name": "python",
   "nbconvert_exporter": "python",
   "pygments_lexer": "ipython3",
   "version": "3.7.6"
  }
 },
 "nbformat": 4,
 "nbformat_minor": 4
}
