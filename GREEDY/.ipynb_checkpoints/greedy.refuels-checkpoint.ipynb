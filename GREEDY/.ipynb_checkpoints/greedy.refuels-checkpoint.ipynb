{
 "cells": [
  {
   "cell_type": "code",
   "execution_count": 1,
   "metadata": {
    "scrolled": true
   },
   "outputs": [
    {
     "name": "stdout",
     "output_type": "stream",
     "text": [
      "10\n",
      "3\n",
      "4\n",
      "1 2 5 9\n"
     ]
    }
   ],
   "source": [
    "d=int(input())\n",
    "m=int(input())\n",
    "n=int(input())\n",
    "gs=[int(x) for x in input().split()]\n",
    "gs.append(d)\n",
    "gs.insert(0,0)\n"
   ]
  },
  {
   "cell_type": "code",
   "execution_count": 2,
   "metadata": {},
   "outputs": [
    {
     "name": "stdout",
     "output_type": "stream",
     "text": [
      "-1\n"
     ]
    }
   ],
   "source": [
    "r,c,plag,last=m,0,1,0\n",
    "for i in range(1,len(gs)):\n",
    "    \n",
    "    if gs[i]>r:\n",
    "        r=r-last+gs[i-1]\n",
    "        last=gs[i-1]\n",
    "        c=c+1\n",
    "    if gs[i]-gs[i-1]>m:\n",
    "        plag=0\n",
    "if plag==0:\n",
    "    print(-1)\n",
    "else:\n",
    "    print(c)"
   ]
  },
  {
   "cell_type": "code",
   "execution_count": null,
   "metadata": {},
   "outputs": [],
   "source": []
  },
  {
   "cell_type": "code",
   "execution_count": null,
   "metadata": {},
   "outputs": [],
   "source": []
  },
  {
   "cell_type": "code",
   "execution_count": null,
   "metadata": {},
   "outputs": [],
   "source": []
  },
  {
   "cell_type": "code",
   "execution_count": null,
   "metadata": {},
   "outputs": [],
   "source": []
  }
 ],
 "metadata": {
  "kernelspec": {
   "display_name": "Python 3",
   "language": "python",
   "name": "python3"
  },
  "language_info": {
   "codemirror_mode": {
    "name": "ipython",
    "version": 3
   },
   "file_extension": ".py",
   "mimetype": "text/x-python",
   "name": "python",
   "nbconvert_exporter": "python",
   "pygments_lexer": "ipython3",
   "version": "3.7.6"
  }
 },
 "nbformat": 4,
 "nbformat_minor": 4
}
