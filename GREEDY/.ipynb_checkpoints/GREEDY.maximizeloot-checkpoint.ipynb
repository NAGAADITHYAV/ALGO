{
 "cells": [
  {
   "cell_type": "code",
   "execution_count": 1,
   "metadata": {},
   "outputs": [
    {
     "name": "stdout",
     "output_type": "stream",
     "text": [
      "3 50\n"
     ]
    }
   ],
   "source": [
    "n,cap=map(int,input().split())"
   ]
  },
  {
   "cell_type": "code",
   "execution_count": 2,
   "metadata": {},
   "outputs": [
    {
     "name": "stdout",
     "output_type": "stream",
     "text": [
      "60 20\n",
      "100 50\n",
      "120 30\n"
     ]
    }
   ],
   "source": [
    "valwei={}\n",
    "for _ in range(n):\n",
    "    x,y=map(int,input().split())\n",
    "    valwei[float(x)/y]=y\n",
    "#print(valwei)"
   ]
  },
  {
   "cell_type": "code",
   "execution_count": 3,
   "metadata": {},
   "outputs": [
    {
     "name": "stdout",
     "output_type": "stream",
     "text": [
      "180.0\n"
     ]
    }
   ],
   "source": [
    "val=0\n",
    "for i in sorted (valwei.keys(),key=float,reverse=True):\n",
    "    if cap>=valwei[i]:\n",
    "        cap=cap-valwei[i]\n",
    "        val=val+i*valwei[i]\n",
    "    else :\n",
    "        val =val+i*cap\n",
    "        cap=0\n",
    "    if cap==0:\n",
    "        break\n",
    "print(round(val,4))     "
   ]
  },
  {
   "cell_type": "code",
   "execution_count": null,
   "metadata": {},
   "outputs": [],
   "source": []
  }
 ],
 "metadata": {
  "kernelspec": {
   "display_name": "Python 3",
   "language": "python",
   "name": "python3"
  },
  "language_info": {
   "codemirror_mode": {
    "name": "ipython",
    "version": 3
   },
   "file_extension": ".py",
   "mimetype": "text/x-python",
   "name": "python",
   "nbconvert_exporter": "python",
   "pygments_lexer": "ipython3",
   "version": "3.7.6"
  }
 },
 "nbformat": 4,
 "nbformat_minor": 4
}
