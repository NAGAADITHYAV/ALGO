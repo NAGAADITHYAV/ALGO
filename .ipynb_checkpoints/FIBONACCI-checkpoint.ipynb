{
 "cells": [
  {
   "cell_type": "code",
   "execution_count": 1,
   "metadata": {},
   "outputs": [],
   "source": [
    "from datetime import datetime"
   ]
  },
  {
   "cell_type": "code",
   "execution_count": 2,
   "metadata": {},
   "outputs": [
    {
     "data": {
      "text/plain": [
       "datetime.datetime(2020, 7, 17, 21, 58, 28, 188548)"
      ]
     },
     "execution_count": 2,
     "metadata": {},
     "output_type": "execute_result"
    }
   ],
   "source": [
    "datetime.now()"
   ]
  },
  {
   "cell_type": "code",
   "execution_count": 6,
   "metadata": {},
   "outputs": [
    {
     "name": "stdout",
     "output_type": "stream",
     "text": [
      "37\n",
      "24157817\n",
      "0:00:09.368249\n"
     ]
    }
   ],
   "source": [
    "# Uses python3\n",
    "def calc_fib(n):\n",
    "    if (n <= 1):\n",
    "        return n\n",
    "\n",
    "    return calc_fib(n - 1) + calc_fib(n - 2)\n",
    "\n",
    "n = int(input())\n",
    "s=datetime.now()\n",
    "print(calc_fib(n))\n",
    "print(datetime.now()-s)\n"
   ]
  },
  {
   "cell_type": "code",
   "execution_count": null,
   "metadata": {},
   "outputs": [],
   "source": [
    "n= int(input())\n",
    "s=datetime.now()\n",
    "a=[0,1]\n",
    "for i in range(n-1):\n",
    "    a.append(a[i]+a[i+1])\n",
    "    #print(i)\n",
    "print(datetime.now()-s)\n",
    "#print(a.pop())"
   ]
  },
  {
   "cell_type": "code",
   "execution_count": null,
   "metadata": {},
   "outputs": [],
   "source": [
    "n=int(input())\n",
    "\n",
    "a,b=0,1\n",
    "\n",
    "s=datetime.now()\n",
    "for i in range(n-1):\n",
    "    if i%2==0:\n",
    "        a=a+b\n",
    "    else:\n",
    "        b=a+b\n",
    "    if i==n-2:\n",
    "        if i%2==0:\n",
    "            res=a\n",
    "        else:\n",
    "            res=b\n",
    "print(datetime.now()-s)\n",
    "print(res)\n"
   ]
  },
  {
   "cell_type": "code",
   "execution_count": null,
   "metadata": {},
   "outputs": [],
   "source": []
  }
 ],
 "metadata": {
  "kernelspec": {
   "display_name": "Python 3",
   "language": "python",
   "name": "python3"
  },
  "language_info": {
   "codemirror_mode": {
    "name": "ipython",
    "version": 3
   },
   "file_extension": ".py",
   "mimetype": "text/x-python",
   "name": "python",
   "nbconvert_exporter": "python",
   "pygments_lexer": "ipython3",
   "version": "3.7.6"
  }
 },
 "nbformat": 4,
 "nbformat_minor": 4
}
