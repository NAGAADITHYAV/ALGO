{
 "cells": [
  {
   "cell_type": "code",
   "execution_count": 1,
   "metadata": {},
   "outputs": [],
   "source": [
    "def matmul(a,b):\n",
    "    c=[[0,0],[0,0]]\n",
    "    c[0][0]=a[0][0]*b[0][0]+a[0][1]*b[1][0]\n",
    "    c[0][1]=a[0][0]*b[0][1]+a[0][1]*b[1][1]\n",
    "    c[1][0]=a[1][0]*b[0][0]+a[1][1]*b[1][0]\n",
    "    c[1][1]=a[1][0]*b[0][1]+a[1][1]*b[1][1]\n",
    "    return c"
   ]
  },
  {
   "cell_type": "code",
   "execution_count": 2,
   "metadata": {},
   "outputs": [],
   "source": [
    "a=[[1,1],[1,0]]"
   ]
  },
  {
   "cell_type": "code",
   "execution_count": null,
   "metadata": {},
   "outputs": [
    {
     "name": "stdout",
     "output_type": "stream",
     "text": [
      "100000000\n"
     ]
    }
   ],
   "source": [
    "n=int(input())\n",
    "q=n+1\n",
    "\n",
    "cur=[[1,0],[0,1]]\n",
    "res=[[1,0],[0,1]]\n",
    "while(q):\n",
    "    if q==n+1:\n",
    "        cur=a\n",
    "    else:\n",
    "        cur=matmul(cur,cur)\n",
    "    r=q%2\n",
    "    if r:\n",
    "        res=matmul(res,cur)\n",
    "    q=q//2\n",
    "print((res[0][0]-1)%10)"
   ]
  },
  {
   "cell_type": "code",
   "execution_count": null,
   "metadata": {},
   "outputs": [],
   "source": []
  }
 ],
 "metadata": {
  "kernelspec": {
   "display_name": "Python 3",
   "language": "python",
   "name": "python3"
  },
  "language_info": {
   "codemirror_mode": {
    "name": "ipython",
    "version": 3
   },
   "file_extension": ".py",
   "mimetype": "text/x-python",
   "name": "python",
   "nbconvert_exporter": "python",
   "pygments_lexer": "ipython3",
   "version": "3.7.6"
  }
 },
 "nbformat": 4,
 "nbformat_minor": 4
}
