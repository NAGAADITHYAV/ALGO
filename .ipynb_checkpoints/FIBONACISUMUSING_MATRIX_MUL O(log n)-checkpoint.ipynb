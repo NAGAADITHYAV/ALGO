{
 "cells": [
  {
   "cell_type": "code",
   "execution_count": 1,
   "metadata": {},
   "outputs": [],
   "source": [
    "a=[[1,1],[1,0]]"
   ]
  },
  {
   "cell_type": "code",
   "execution_count": 2,
   "metadata": {},
   "outputs": [],
   "source": [
    "def matmul(a,b):\n",
    "    c=[[0,0],[0,0]]\n",
    "    c[0][0]=a[0][0]*b[0][0]+a[0][1]*b[1][0]\n",
    "    c[0][1]=a[0][0]*b[0][1]+a[0][1]*b[1][1]\n",
    "    c[1][0]=a[1][0]*b[0][0]+a[1][1]*b[1][0]\n",
    "    c[1][1]=a[1][0]*b[0][1]+a[1][1]*b[1][1]\n",
    "    return c"
   ]
  },
  {
   "cell_type": "code",
   "execution_count": 3,
   "metadata": {},
   "outputs": [],
   "source": [
    "def binar(a):\n",
    "   # function to convert into binary and calulation of highest  power near to power of 2\n",
    "    d=[]\n",
    "    while(a>0):\n",
    "        d.append(a%2)\n",
    "        a=a//2\n",
    "    return len(d),d"
   ]
  },
  {
   "cell_type": "code",
   "execution_count": 4,
   "metadata": {},
   "outputs": [],
   "source": [
    "def matpow(a,n):\n",
    "    powmats=[]\n",
    "    d,binary=binar(n)\n",
    "    powmats.append(a)\n",
    "    for i in range(1,d+1):\n",
    "        powmats.append(matmul(powmats[i-1],powmats[i-1]))\n",
    "    I=[[1,0],[0,1]]\n",
    "    \n",
    "    for i in range (len(binary)):\n",
    "        if binary[i]:\n",
    "            I=matmul(I,powmats[i])\n",
    "    #print(powmats)\n",
    "    #print(d,binary)\n",
    "    #print(I)\n",
    "    return I[0][0]"
   ]
  },
  {
   "cell_type": "code",
   "execution_count": 5,
   "metadata": {},
   "outputs": [
    {
     "name": "stdout",
     "output_type": "stream",
     "text": [
      "10 10\n",
      "55\n"
     ]
    }
   ],
   "source": [
    "m,n=map(int,input().split())\n",
    "res=int(matpow(a,n+1)-matpow(a,m))\n",
    "print((res)%10)"
   ]
  },
  {
   "cell_type": "code",
   "execution_count": null,
   "metadata": {},
   "outputs": [],
   "source": []
  }
 ],
 "metadata": {
  "kernelspec": {
   "display_name": "Python 3",
   "language": "python",
   "name": "python3"
  },
  "language_info": {
   "codemirror_mode": {
    "name": "ipython",
    "version": 3
   },
   "file_extension": ".py",
   "mimetype": "text/x-python",
   "name": "python",
   "nbconvert_exporter": "python",
   "pygments_lexer": "ipython3",
   "version": "3.7.6"
  }
 },
 "nbformat": 4,
 "nbformat_minor": 4
}
